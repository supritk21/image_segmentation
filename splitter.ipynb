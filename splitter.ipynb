{
 "cells": [
  {
   "cell_type": "code",
   "execution_count": 1,
   "metadata": {},
   "outputs": [],
   "source": [
    "import os\n",
    "import random\n",
    "import shutil\n",
    "\n",
    "input_folder = \"data/train\"\n",
    "output_folder = \"data/train_masks\"\n",
    "\n",
    "# Create directories for train, dev, and test\n",
    "os.makedirs(\"data2/train_images\", exist_ok=True)\n",
    "os.makedirs(\"data2/dev_images\", exist_ok=True)\n",
    "os.makedirs(\"data2/test_images\", exist_ok=True)\n",
    "\n",
    "os.makedirs(\"data2/train_masks\", exist_ok=True)\n",
    "os.makedirs(\"data2/dev_masks\", exist_ok=True)\n",
    "os.makedirs(\"data2/test_masks\", exist_ok=True)\n",
    "\n",
    "# Get a list of all image files\n",
    "image_files = sorted([f for f in os.listdir(input_folder) if f.lower().endswith((\".jpg\", \".png\", \".jpeg\"))])\n",
    "output_files = sorted([f for f in os.listdir(output_folder) if f.lower().endswith((\".gif\"))])\n",
    "\n",
    "original_indices = list(range(len(image_files)))\n",
    "\n",
    "# Shuffle the indices\n",
    "random.shuffle(original_indices)\n",
    "\n",
    "# Use the shuffled indices to reorder both lists\n",
    "shuffled_image_files =  [image_files[i] for i in original_indices]\n",
    "shuffled_output_files = [output_files[i] for i in original_indices]\n",
    "# Split ratios\n",
    "train_ratio = 0.8\n",
    "dev_ratio = 0.11\n",
    "\n",
    "# Calculate split indices\n",
    "train_indices = int(len(shuffled_image_files ) * train_ratio)\n",
    "dev_indices = int(len(shuffled_image_files ) * (train_ratio + dev_ratio))\n",
    "\n",
    "# Move images to respective folders\n",
    "for i, image_file in enumerate(shuffled_image_files):\n",
    "    if i < train_indices:\n",
    "        shutil.copy(os.path.join(input_folder, image_file), os.path.join(\"data2/train_images\", image_file))\n",
    "    elif i < dev_indices:\n",
    "        shutil.copy(os.path.join(input_folder, image_file), os.path.join(\"data2/dev_images\", image_file))\n",
    "    else:\n",
    "        shutil.copy(os.path.join(input_folder, image_file), os.path.join(\"data2/test_images\", image_file))\n",
    "\n",
    "for i, image_file in enumerate(shuffled_output_files):\n",
    "    if i < train_indices:\n",
    "        shutil.copy(os.path.join(output_folder, image_file), os.path.join(\"data2/train_masks\", image_file))\n",
    "    elif i < dev_indices:\n",
    "        shutil.copy(os.path.join(output_folder, image_file), os.path.join(\"data2/dev_masks\", image_file))\n",
    "    else:\n",
    "        shutil.copy(os.path.join(output_folder, image_file), os.path.join(\"data2/test_masks\", image_file))\n"
   ]
  }
 ],
 "metadata": {
  "kernelspec": {
   "display_name": "Python 3",
   "language": "python",
   "name": "python3"
  },
  "language_info": {
   "codemirror_mode": {
    "name": "ipython",
    "version": 3
   },
   "file_extension": ".py",
   "mimetype": "text/x-python",
   "name": "python",
   "nbconvert_exporter": "python",
   "pygments_lexer": "ipython3",
   "version": "3.10.12"
  }
 },
 "nbformat": 4,
 "nbformat_minor": 2
}
